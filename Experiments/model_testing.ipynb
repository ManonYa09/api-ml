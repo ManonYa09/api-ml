{
 "cells": [
  {
   "cell_type": "code",
   "execution_count": 17,
   "metadata": {},
   "outputs": [],
   "source": [
    "import numpy as np\n",
    "import pandas as pd # standard as pd, \n",
    "import matplotlib.pyplot as plt\n",
    "import seaborn as sns\n",
    "import tensorflow as tf\n",
    "import warnings \n",
    "from sklearn.preprocessing import StandardScaler\n",
    "from sklearn.model_selection import train_test_split\n",
    "warnings.filterwarnings('ignore')\n",
    "\n",
    "from pathlib import Path\n",
    "import os"
   ]
  },
  {
   "cell_type": "code",
   "execution_count": 11,
   "metadata": {},
   "outputs": [],
   "source": [
    "DATASET = 'Churn_Modelling.csv'\n",
    "TARGET = 'Exited'\n",
    "TEST_FILE = 'test_data.csv'\n",
    "\n",
    "MODEL_NAME = 'classification.pkl'\n",
    "# SAVE_MODEL_PATH = os.path.join(PACKAGE_ROOT,'trained_models')\n",
    "\n",
    "### Final fearues used in the model\n",
    "FEATURES = ['CreditScore',\n",
    "            'Geography', \n",
    "            'Gender',\n",
    "            'Age',\n",
    "            'Tenure',\n",
    "            'Balance', \n",
    "            'NumOfProducts',\n",
    "            'HasCrCard', \n",
    "            'IsActiveMember',\n",
    "            'EstimatedSalary']\n",
    "PRE_FEATURES = ['RowNumber','CustomerId','Surname']\n",
    "NUM_FEATUES = ['CreditScore','Age',\n",
    "               'Tenure','Balance',\n",
    "               'NumOfProducts','EstimatedSalary']\n",
    "CAT_FEATUES = ['Geography','Gender',\n",
    "               'HasCrCard','IsActiveMember']\n",
    "\n",
    "FEATURES_TO_ENCODE = ['Geography','Gender']\n",
    "FEATURES_TO_SCALE = ['CreditScore','Age',\n",
    "                     'Tenure','Balance',\n",
    "                     'NumOfProducts','EstimatedSalary']\n",
    "\n",
    "FEATURES_DROP = ['RowNumber','CustomerId','Surname']"
   ]
  },
  {
   "cell_type": "code",
   "execution_count": 10,
   "metadata": {},
   "outputs": [],
   "source": [
    "# dataset = pd.read_csv('Churn_Modelling.csv')\n",
    "def load_dataset(filepath = 'Churn_Modelling.csv'):\n",
    "    # filepath = ''\n",
    "    _data = pd.read_csv(filepath)\n",
    "    _data.columns = [c.strip() for c in _data.columns] \n",
    "    return _data\n",
    "data = load_dataset()\n"
   ]
  },
  {
   "cell_type": "code",
   "execution_count": 13,
   "metadata": {},
   "outputs": [],
   "source": [
    "def separate_data(data):\n",
    "    X = data.drop(TARGET, axis=1)\n",
    "    y = data[TARGET]\n",
    "    return X,y\n",
    "X, y = separate_data(data)"
   ]
  },
  {
   "cell_type": "code",
   "execution_count": 18,
   "metadata": {},
   "outputs": [],
   "source": [
    "def split_data(X, y, test_size=0.2, random_state=42):\n",
    "  # Split into training and testing sets\n",
    "  X_train, X_test, y_train, y_test = train_test_split(X, y, test_size=test_size, random_state=random_state)\n",
    "  return X_train, X_test, y_train, y_test\n",
    "X_train, X_test, y_train, y_test = split_data(X, y, test_size=0.2, random_state=42)"
   ]
  },
  {
   "cell_type": "code",
   "execution_count": 21,
   "metadata": {},
   "outputs": [],
   "source": [
    "from sklearn.pipeline import Pipeline\n",
    "from sklearn.linear_model import LogisticRegression\n"
   ]
  },
  {
   "cell_type": "code",
   "execution_count": 23,
   "metadata": {},
   "outputs": [],
   "source": [
    "from sklearn.base import BaseEstimator, TransformerMixin\n",
    "class DropColumns(BaseEstimator, TransformerMixin):\n",
    "    def __init__(self, variables_to_drop=None):\n",
    "        self.variables_to_drop = variables_to_drop or config.FEATURES_DROP\n",
    "    \n",
    "    def fit(self, X, y=None):\n",
    "        return self\n",
    "    \n",
    "    def transform(self, X):\n",
    "        X = X.drop(columns=self.variables_to_drop)\n",
    "        return X\n",
    "\n",
    "# Transformer to encode and create dummy variables\n",
    "class EncodeAndBind(BaseEstimator, TransformerMixin):\n",
    "    def __init__(self, encode=None, dummy=None):\n",
    "        self.encode = encode\n",
    "        self.dummy = dummy\n",
    "    \n",
    "    def fit(self, X, y=None):\n",
    "        return self\n",
    "    \n",
    "    def transform(self, X):\n",
    "        X[self.encode].replace({'Male': 0, 'Female': 1}, inplace=True)\n",
    "        X = pd.get_dummies(X, columns=[self.dummy])\n",
    "        X.replace({True: 1, False: 0}, inplace=True)\n",
    "        return X\n",
    "\n",
    "# Transformer to normalize specified variables\n",
    "class Scale(BaseEstimator, TransformerMixin):\n",
    "    def __init__(self, variables=None):\n",
    "        self.variables = variables or config.FEATURES_TO_SCALE\n",
    "    \n",
    "    def fit(self, X, y=None):\n",
    "        return self\n",
    "    \n",
    "    def transform(self, X):\n",
    "        X = X.copy()\n",
    "        for variable in self.variables:\n",
    "            X[variable] = (X[variable] - X[variable].min()) / (X[variable].max() - X[variable].min())\n",
    "        return X\n"
   ]
  },
  {
   "cell_type": "code",
   "execution_count": 24,
   "metadata": {},
   "outputs": [],
   "source": [
    "classification_pipeline = Pipeline(\n",
    "    steps =  [(\n",
    "    'Drop_columns', DropColumns(variables_to_drop =['RowNumber','CustomerId','Surname'])),\n",
    "    ('Encode_and_bind', EncodeAndBind(encode='Gender', dummy='Geography')),\n",
    "    ('Scale', Scale(variables=['CreditScore','Age','Tenure','Balance','NumOfProducts','EstimatedSalary'])),\n",
    "    ('Model', LogisticRegression(random_state=12))])"
   ]
  },
  {
   "cell_type": "code",
   "execution_count": 26,
   "metadata": {},
   "outputs": [
    {
     "data": {
      "text/html": [
       "<style>#sk-container-id-2 {color: black;background-color: white;}#sk-container-id-2 pre{padding: 0;}#sk-container-id-2 div.sk-toggleable {background-color: white;}#sk-container-id-2 label.sk-toggleable__label {cursor: pointer;display: block;width: 100%;margin-bottom: 0;padding: 0.3em;box-sizing: border-box;text-align: center;}#sk-container-id-2 label.sk-toggleable__label-arrow:before {content: \"▸\";float: left;margin-right: 0.25em;color: #696969;}#sk-container-id-2 label.sk-toggleable__label-arrow:hover:before {color: black;}#sk-container-id-2 div.sk-estimator:hover label.sk-toggleable__label-arrow:before {color: black;}#sk-container-id-2 div.sk-toggleable__content {max-height: 0;max-width: 0;overflow: hidden;text-align: left;background-color: #f0f8ff;}#sk-container-id-2 div.sk-toggleable__content pre {margin: 0.2em;color: black;border-radius: 0.25em;background-color: #f0f8ff;}#sk-container-id-2 input.sk-toggleable__control:checked~div.sk-toggleable__content {max-height: 200px;max-width: 100%;overflow: auto;}#sk-container-id-2 input.sk-toggleable__control:checked~label.sk-toggleable__label-arrow:before {content: \"▾\";}#sk-container-id-2 div.sk-estimator input.sk-toggleable__control:checked~label.sk-toggleable__label {background-color: #d4ebff;}#sk-container-id-2 div.sk-label input.sk-toggleable__control:checked~label.sk-toggleable__label {background-color: #d4ebff;}#sk-container-id-2 input.sk-hidden--visually {border: 0;clip: rect(1px 1px 1px 1px);clip: rect(1px, 1px, 1px, 1px);height: 1px;margin: -1px;overflow: hidden;padding: 0;position: absolute;width: 1px;}#sk-container-id-2 div.sk-estimator {font-family: monospace;background-color: #f0f8ff;border: 1px dotted black;border-radius: 0.25em;box-sizing: border-box;margin-bottom: 0.5em;}#sk-container-id-2 div.sk-estimator:hover {background-color: #d4ebff;}#sk-container-id-2 div.sk-parallel-item::after {content: \"\";width: 100%;border-bottom: 1px solid gray;flex-grow: 1;}#sk-container-id-2 div.sk-label:hover label.sk-toggleable__label {background-color: #d4ebff;}#sk-container-id-2 div.sk-serial::before {content: \"\";position: absolute;border-left: 1px solid gray;box-sizing: border-box;top: 0;bottom: 0;left: 50%;z-index: 0;}#sk-container-id-2 div.sk-serial {display: flex;flex-direction: column;align-items: center;background-color: white;padding-right: 0.2em;padding-left: 0.2em;position: relative;}#sk-container-id-2 div.sk-item {position: relative;z-index: 1;}#sk-container-id-2 div.sk-parallel {display: flex;align-items: stretch;justify-content: center;background-color: white;position: relative;}#sk-container-id-2 div.sk-item::before, #sk-container-id-2 div.sk-parallel-item::before {content: \"\";position: absolute;border-left: 1px solid gray;box-sizing: border-box;top: 0;bottom: 0;left: 50%;z-index: -1;}#sk-container-id-2 div.sk-parallel-item {display: flex;flex-direction: column;z-index: 1;position: relative;background-color: white;}#sk-container-id-2 div.sk-parallel-item:first-child::after {align-self: flex-end;width: 50%;}#sk-container-id-2 div.sk-parallel-item:last-child::after {align-self: flex-start;width: 50%;}#sk-container-id-2 div.sk-parallel-item:only-child::after {width: 0;}#sk-container-id-2 div.sk-dashed-wrapped {border: 1px dashed gray;margin: 0 0.4em 0.5em 0.4em;box-sizing: border-box;padding-bottom: 0.4em;background-color: white;}#sk-container-id-2 div.sk-label label {font-family: monospace;font-weight: bold;display: inline-block;line-height: 1.2em;}#sk-container-id-2 div.sk-label-container {text-align: center;}#sk-container-id-2 div.sk-container {/* jupyter's `normalize.less` sets `[hidden] { display: none; }` but bootstrap.min.css set `[hidden] { display: none !important; }` so we also need the `!important` here to be able to override the default hidden behavior on the sphinx rendered scikit-learn.org. See: https://github.com/scikit-learn/scikit-learn/issues/21755 */display: inline-block !important;position: relative;}#sk-container-id-2 div.sk-text-repr-fallback {display: none;}</style><div id=\"sk-container-id-2\" class=\"sk-top-container\"><div class=\"sk-text-repr-fallback\"><pre>Pipeline(steps=[(&#x27;Drop_columns&#x27;,\n",
       "                 DropColumns(variables_to_drop=[&#x27;RowNumber&#x27;, &#x27;CustomerId&#x27;,\n",
       "                                                &#x27;Surname&#x27;])),\n",
       "                (&#x27;Encode_and_bind&#x27;,\n",
       "                 EncodeAndBind(dummy=&#x27;Geography&#x27;, encode=&#x27;Gender&#x27;)),\n",
       "                (&#x27;Scale&#x27;,\n",
       "                 Scale(variables=[&#x27;CreditScore&#x27;, &#x27;Age&#x27;, &#x27;Tenure&#x27;, &#x27;Balance&#x27;,\n",
       "                                  &#x27;NumOfProducts&#x27;, &#x27;EstimatedSalary&#x27;])),\n",
       "                (&#x27;Model&#x27;, LogisticRegression(random_state=12))])</pre><b>In a Jupyter environment, please rerun this cell to show the HTML representation or trust the notebook. <br />On GitHub, the HTML representation is unable to render, please try loading this page with nbviewer.org.</b></div><div class=\"sk-container\" hidden><div class=\"sk-item sk-dashed-wrapped\"><div class=\"sk-label-container\"><div class=\"sk-label sk-toggleable\"><input class=\"sk-toggleable__control sk-hidden--visually\" id=\"sk-estimator-id-6\" type=\"checkbox\" ><label for=\"sk-estimator-id-6\" class=\"sk-toggleable__label sk-toggleable__label-arrow\">Pipeline</label><div class=\"sk-toggleable__content\"><pre>Pipeline(steps=[(&#x27;Drop_columns&#x27;,\n",
       "                 DropColumns(variables_to_drop=[&#x27;RowNumber&#x27;, &#x27;CustomerId&#x27;,\n",
       "                                                &#x27;Surname&#x27;])),\n",
       "                (&#x27;Encode_and_bind&#x27;,\n",
       "                 EncodeAndBind(dummy=&#x27;Geography&#x27;, encode=&#x27;Gender&#x27;)),\n",
       "                (&#x27;Scale&#x27;,\n",
       "                 Scale(variables=[&#x27;CreditScore&#x27;, &#x27;Age&#x27;, &#x27;Tenure&#x27;, &#x27;Balance&#x27;,\n",
       "                                  &#x27;NumOfProducts&#x27;, &#x27;EstimatedSalary&#x27;])),\n",
       "                (&#x27;Model&#x27;, LogisticRegression(random_state=12))])</pre></div></div></div><div class=\"sk-serial\"><div class=\"sk-item\"><div class=\"sk-estimator sk-toggleable\"><input class=\"sk-toggleable__control sk-hidden--visually\" id=\"sk-estimator-id-7\" type=\"checkbox\" ><label for=\"sk-estimator-id-7\" class=\"sk-toggleable__label sk-toggleable__label-arrow\">DropColumns</label><div class=\"sk-toggleable__content\"><pre>DropColumns(variables_to_drop=[&#x27;RowNumber&#x27;, &#x27;CustomerId&#x27;, &#x27;Surname&#x27;])</pre></div></div></div><div class=\"sk-item\"><div class=\"sk-estimator sk-toggleable\"><input class=\"sk-toggleable__control sk-hidden--visually\" id=\"sk-estimator-id-8\" type=\"checkbox\" ><label for=\"sk-estimator-id-8\" class=\"sk-toggleable__label sk-toggleable__label-arrow\">EncodeAndBind</label><div class=\"sk-toggleable__content\"><pre>EncodeAndBind(dummy=&#x27;Geography&#x27;, encode=&#x27;Gender&#x27;)</pre></div></div></div><div class=\"sk-item\"><div class=\"sk-estimator sk-toggleable\"><input class=\"sk-toggleable__control sk-hidden--visually\" id=\"sk-estimator-id-9\" type=\"checkbox\" ><label for=\"sk-estimator-id-9\" class=\"sk-toggleable__label sk-toggleable__label-arrow\">Scale</label><div class=\"sk-toggleable__content\"><pre>Scale(variables=[&#x27;CreditScore&#x27;, &#x27;Age&#x27;, &#x27;Tenure&#x27;, &#x27;Balance&#x27;, &#x27;NumOfProducts&#x27;,\n",
       "                 &#x27;EstimatedSalary&#x27;])</pre></div></div></div><div class=\"sk-item\"><div class=\"sk-estimator sk-toggleable\"><input class=\"sk-toggleable__control sk-hidden--visually\" id=\"sk-estimator-id-10\" type=\"checkbox\" ><label for=\"sk-estimator-id-10\" class=\"sk-toggleable__label sk-toggleable__label-arrow\">LogisticRegression</label><div class=\"sk-toggleable__content\"><pre>LogisticRegression(random_state=12)</pre></div></div></div></div></div></div></div>"
      ],
      "text/plain": [
       "Pipeline(steps=[('Drop_columns',\n",
       "                 DropColumns(variables_to_drop=['RowNumber', 'CustomerId',\n",
       "                                                'Surname'])),\n",
       "                ('Encode_and_bind',\n",
       "                 EncodeAndBind(dummy='Geography', encode='Gender')),\n",
       "                ('Scale',\n",
       "                 Scale(variables=['CreditScore', 'Age', 'Tenure', 'Balance',\n",
       "                                  'NumOfProducts', 'EstimatedSalary'])),\n",
       "                ('Model', LogisticRegression(random_state=12))])"
      ]
     },
     "execution_count": 26,
     "metadata": {},
     "output_type": "execute_result"
    }
   ],
   "source": [
    "classification_pipeline.fit(X_train,y_train)"
   ]
  },
  {
   "cell_type": "code",
   "execution_count": 32,
   "metadata": {},
   "outputs": [
    {
     "name": "stdout",
     "output_type": "stream",
     "text": [
      "An unexpected error occurred: 'NoneType' object is not iterable\n"
     ]
    }
   ],
   "source": [
    "import joblib\n",
    "def perform_pipeline():\n",
    "    dataset = load_dataset('Churn_Modelling.csv')\n",
    "    X,y = separate_data(dataset)\n",
    "    X_train, X_test, y_train, y_test = split_data(X,y)\n",
    "    test_data = X_test.copy()\n",
    "    test_data[TARGET] = y_test\n",
    "    test_data.to_csv('Testing1.csv', index = False)\n",
    "    try:\n",
    "        classification_pipeline.fit(X_train, y_train)\n",
    "    except Exception as e:\n",
    "        print(f\"Error during pipeline fitting: {e}\")\n",
    "\n",
    "    joblib.dump(classification_pipeline,'classification.pkl')\n",
    "    print(f\"Model has been saved to \")\n",
    "if __name__=='__main__':\n",
    "    perform_pipeline()\n"
   ]
  },
  {
   "cell_type": "code",
   "execution_count": null,
   "metadata": {},
   "outputs": [],
   "source": []
  }
 ],
 "metadata": {
  "kernelspec": {
   "display_name": "base",
   "language": "python",
   "name": "python3"
  },
  "language_info": {
   "codemirror_mode": {
    "name": "ipython",
    "version": 3
   },
   "file_extension": ".py",
   "mimetype": "text/x-python",
   "name": "python",
   "nbconvert_exporter": "python",
   "pygments_lexer": "ipython3",
   "version": "3.11.5"
  }
 },
 "nbformat": 4,
 "nbformat_minor": 2
}
